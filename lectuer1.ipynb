{
 "cells": [
  {
   "cell_type": "markdown",
   "metadata": {},
   "source": [
    " ### Rational Agent \n",
    "   A rational agent should select an action that is expected to maximize its performace "
   ]
  },
  {
   "cell_type": "markdown",
   "metadata": {},
   "source": [
    "## Task Envirnment \n",
    "    The set of parameters that define the agent's task \n",
    "\n",
    "### Broken down into 4 parts:\n",
    "    - Performace measure: what are we trying to achieve?\n",
    "    - Envirnment: what things in the world do we \n",
    "    - Actuators: \n",
    "    - Sensors: What can we perceive?\n",
    "Example: Robot Vacuum\n",
    "    -Performace measure: removes dirt, operate quicky, cover sufficient area\n",
    "    -Envirnment: Room, furniture dirt, other obstacles\n",
    "    -Actuators: Wheels, Vacuum\n",
    "    -Sensore: Bumb sensore, cleanliness sensor\n",
    "\n",
    "    Types of Task Envirnments\n",
    "        - Full obserable vs partically observable: can the agenet see the full state of the envirnment at all times\n",
    "        - Single agent vs multi agent: are there other agents we need to consider while doing the task \n",
    "        - Cooperative vs competitive: if there are other agents, are they helping our agent or hindering it completing its job"
   ]
  }
 ],
 "metadata": {
  "language_info": {
   "name": "python"
  }
 },
 "nbformat": 4,
 "nbformat_minor": 2
}
